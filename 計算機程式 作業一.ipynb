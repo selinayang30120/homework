{
 "cells": [
  {
   "cell_type": "code",
   "execution_count": 4,
   "metadata": {},
   "outputs": [],
   "source": [
    "%matplotlib inline\n",
    "\n",
    "import numpy as np\n",
    "import matplotlib.pyplot as plt"
   ]
  },
  {
   "cell_type": "code",
   "execution_count": 5,
   "metadata": {},
   "outputs": [],
   "source": [
    "from tensorflow.keras.datasets import fashion_mnist"
   ]
  },
  {
   "cell_type": "code",
   "execution_count": 6,
   "metadata": {},
   "outputs": [],
   "source": [
    "(x_train, y_train), (x_test, y_test) = fashion_mnist.load_data()"
   ]
  },
  {
   "cell_type": "code",
   "execution_count": 7,
   "metadata": {},
   "outputs": [],
   "source": [
    "class_names = ['T-shirt/top', 'Trouser', 'Pullover', 'Dress', 'Coat', 'Sandal', 'Shirt', 'Sneaker', 'Bag', 'Ankle Boot']"
   ]
  },
  {
   "cell_type": "code",
   "execution_count": 8,
   "metadata": {},
   "outputs": [
    {
     "data": {
      "text/plain": [
       "60000"
      ]
     },
     "execution_count": 8,
     "metadata": {},
     "output_type": "execute_result"
    }
   ],
   "source": [
    "len(x_train)"
   ]
  },
  {
   "cell_type": "code",
   "execution_count": 9,
   "metadata": {},
   "outputs": [
    {
     "data": {
      "text/plain": [
       "10000"
      ]
     },
     "execution_count": 9,
     "metadata": {},
     "output_type": "execute_result"
    }
   ],
   "source": [
    "len(x_test)"
   ]
  },
  {
   "cell_type": "code",
   "execution_count": 10,
   "metadata": {},
   "outputs": [],
   "source": [
    "n = 9999"
   ]
  },
  {
   "cell_type": "code",
   "execution_count": 11,
   "metadata": {},
   "outputs": [
    {
     "data": {
      "text/plain": [
       "array([[  0,   0,   0,   0,   1,   0,   0,  15,  77,  50,  12,   5,   0,\n",
       "          1,   2,   0,   0,  10,  84,  66,   0,   0,   0,   0,   0,   0,\n",
       "          0,   0],\n",
       "       [  0,   0,   0,   3,   0,  18, 129, 181, 187, 210, 188, 165, 173,\n",
       "        175, 187, 176, 198, 221, 179, 183, 165,  73,   0,   0,   0,   0,\n",
       "          0,   0],\n",
       "       [  0,   0,   0,   0,   0, 162, 153, 141, 143, 142, 173, 182, 177,\n",
       "        171, 181, 175, 170, 159, 137, 132, 136, 191,  68,   0,   2,   0,\n",
       "          0,   0],\n",
       "       [  0,   0,   0,   0,  35, 157, 140, 140, 142, 163, 152, 140, 175,\n",
       "        194, 175, 134, 147, 150, 158, 138, 128, 149, 128,   0,   2,   0,\n",
       "          0,   0],\n",
       "       [  0,   0,   0,   0,  94, 158, 145, 145, 136, 140, 159, 151, 170,\n",
       "        196, 176, 149, 143, 142, 138, 132, 141, 145, 146,   0,   0,   0,\n",
       "          0,   0],\n",
       "       [  0,   0,   0,   0, 124, 159, 143, 153, 146, 135, 127, 132, 166,\n",
       "        208, 161, 125, 134, 135, 128, 142, 146, 149, 170,   2,   0,   0,\n",
       "          0,   0],\n",
       "       [  0,   0,   0,   0, 141, 174, 142, 154, 152, 138, 127, 144, 161,\n",
       "        184, 181, 129, 135, 130, 141, 138, 140, 161, 176,  11,   0,   0,\n",
       "          0,   0],\n",
       "       [  0,   0,   0,   0, 154, 176, 134, 182, 152, 143, 130, 136, 130,\n",
       "        159, 168, 133, 136, 133, 140, 146, 161, 170, 169,  44,   0,   0,\n",
       "          0,   0],\n",
       "       [  0,   0,   0,   0, 161, 178, 134, 229, 169, 137, 138, 138, 140,\n",
       "        152, 141, 136, 140, 138, 138, 173, 183, 175, 163,  75,   0,   0,\n",
       "          0,   0],\n",
       "       [  0,   0,   0,   0, 165, 182, 151, 249, 143, 141, 136, 137, 137,\n",
       "        151, 150, 135, 136, 141, 149, 127, 198, 179, 165, 100,   0,   0,\n",
       "          0,   0],\n",
       "       [  0,   0,   0,   5, 165, 187, 182, 250, 102, 153, 135, 140, 133,\n",
       "        147, 155, 137, 137, 142, 152, 108, 219, 183, 165, 119,   0,   0,\n",
       "          0,   0],\n",
       "       [  0,   0,   0,  17, 168, 182, 201, 233,  91, 155, 135, 143, 138,\n",
       "        145, 145, 142, 137, 141, 151, 107, 229, 177, 166, 143,   0,   0,\n",
       "          0,   0],\n",
       "       [  0,   0,   0,  40, 167, 181, 215, 199,  85, 158, 136, 143, 141,\n",
       "        138, 142, 141, 137, 147, 158, 107, 203, 181, 165, 160,   0,   0,\n",
       "          0,   0],\n",
       "       [  0,   0,   0,  47, 163, 183, 220, 158,  96, 154, 137, 142, 141,\n",
       "        140, 143, 141, 141, 144, 159, 109, 165, 194, 162, 165,   0,   0,\n",
       "          0,   0],\n",
       "       [  0,   0,   0,  58, 163, 184, 233, 119, 111, 154, 140, 144, 141,\n",
       "        143, 143, 141, 146, 146, 165,  95, 145, 218, 163, 170,  21,   0,\n",
       "          0,   0],\n",
       "       [  0,   0,   0,  67, 165, 182, 243, 107, 127, 152, 141, 143, 144,\n",
       "        142, 144, 142, 149, 144, 162, 103, 141, 224, 165, 173,  33,   0,\n",
       "          0,   0],\n",
       "       [  0,   0,   0,  76, 168, 178, 250, 101, 138, 147, 146, 145, 152,\n",
       "        142, 146, 142, 152, 150, 157, 128, 141, 219, 162, 175,  43,   0,\n",
       "          0,   0],\n",
       "       [  0,   0,   0,  86, 169, 161, 253, 105, 144, 149, 147, 150, 153,\n",
       "        144, 147, 144, 158, 151, 151, 146, 146, 209, 173, 179,  51,   0,\n",
       "          0,   0],\n",
       "       [  0,   0,   0,  96, 169, 162, 253, 128, 143, 154, 150, 154, 155,\n",
       "        147, 147, 144, 163, 151, 154, 151, 162, 208, 175, 179,  53,   0,\n",
       "          0,   0],\n",
       "       [  0,   0,   0, 102, 170, 162, 255, 160, 141, 153, 152, 163, 157,\n",
       "        147, 150, 144, 166, 157, 158, 154, 167, 212, 178, 182,  51,   0,\n",
       "          0,   0],\n",
       "       [  0,   0,   0, 107, 175, 161, 253, 163, 152, 154, 152, 170, 152,\n",
       "        146, 155, 150, 162, 154, 169, 154, 159, 212, 179, 186,  58,   0,\n",
       "          0,   0],\n",
       "       [  0,   0,   0, 109, 181, 157, 244, 157, 159, 153, 155, 174, 147,\n",
       "        153, 161, 155, 162, 154, 170, 151, 153, 202, 186, 185,  70,   0,\n",
       "          0,   0],\n",
       "       [  0,   0,   0, 109, 183, 153, 242, 168, 162, 158, 160, 168, 147,\n",
       "        162, 163, 161, 166, 162, 169, 153, 158, 191, 190, 182,  80,   0,\n",
       "          0,   0],\n",
       "       [  0,   0,   0, 102, 187, 158, 223, 169, 163, 150, 157, 158, 151,\n",
       "        161, 159, 160, 153, 159, 155, 152, 182, 199, 181, 184,  87,   0,\n",
       "          0,   0],\n",
       "       [  0,   0,   0,  83, 185, 175, 185, 104, 218, 178, 177, 176, 176,\n",
       "        181, 179, 178, 174, 176, 188, 208, 126, 179, 177, 194,  81,   0,\n",
       "          0,   0],\n",
       "       [  0,   0,   0,  91, 182, 185, 142,   0, 101, 100,  96,  93,  93,\n",
       "         93,  86,  87,  87,  84,  79,  44,   0, 149, 178, 185,  96,   0,\n",
       "          0,   0],\n",
       "       [  0,   0,   0, 107, 184, 191,  53,   0,   0,   0,   0,   0,   0,\n",
       "          0,   0,   0,   0,   0,   0,   0,   0,  71, 194, 177, 129,   0,\n",
       "          0,   0],\n",
       "       [  0,   0,   0,   0,  35,  81,   0,   0,   2,   1,   0,   0,   0,\n",
       "          0,   0,   0,   3,   4,   2,   1,   0,   0,  76,  47,   0,   0,\n",
       "          0,   0]], dtype=uint8)"
      ]
     },
     "execution_count": 11,
     "metadata": {},
     "output_type": "execute_result"
    }
   ],
   "source": [
    "x_train[n]"
   ]
  },
  {
   "cell_type": "code",
   "execution_count": 12,
   "metadata": {},
   "outputs": [
    {
     "data": {
      "text/plain": [
       "6"
      ]
     },
     "execution_count": 12,
     "metadata": {},
     "output_type": "execute_result"
    }
   ],
   "source": [
    "y_train[n]"
   ]
  },
  {
   "cell_type": "code",
   "execution_count": 13,
   "metadata": {},
   "outputs": [
    {
     "data": {
      "text/plain": [
       "<matplotlib.image.AxesImage at 0x18e79383fc8>"
      ]
     },
     "execution_count": 13,
     "metadata": {},
     "output_type": "execute_result"
    },
    {
     "data": {
      "image/png": "[encoded data removed]",
      "text/plain": [
       "<Figure size 432x288 with 1 Axes>"
      ]
     },
     "metadata": {
      "needs_background": "light"
     },
     "output_type": "display_data"
    }
   ],
   "source": [
    "plt.imshow(x_train[n], cmap='Greys')"
   ]
  },
  {
   "cell_type": "code",
   "execution_count": 14,
   "metadata": {},
   "outputs": [
    {
     "name": "stdout",
     "output_type": "stream",
     "text": [
      "這是: Sandal\n"
     ]
    },
    {
     "data": {
      "image/png": "[encoded data removed]",
      "text/plain": [
       "<Figure size 432x288 with 1 Axes>"
      ]
     },
     "metadata": {
      "needs_background": "light"
     },
     "output_type": "display_data"
    }
   ],
   "source": [
    "n = 2345\n",
    "print('這是:', class_names[y_train[n]])\n",
    "plt.imshow(x_train[n]);"
   ]
  },
  {
   "cell_type": "code",
   "execution_count": 15,
   "metadata": {},
   "outputs": [
    {
     "data": {
      "text/plain": [
       "(60000, 28, 28)"
      ]
     },
     "execution_count": 15,
     "metadata": {},
     "output_type": "execute_result"
    }
   ],
   "source": [
    "x_train.shape"
   ]
  },
  {
   "cell_type": "code",
   "execution_count": 16,
   "metadata": {},
   "outputs": [],
   "source": [
    "x_train = x_train.reshape(60000 ,784)/255"
   ]
  },
  {
   "cell_type": "code",
   "execution_count": 17,
   "metadata": {},
   "outputs": [],
   "source": [
    "x_test = x_test.reshape(10000, 784)/255"
   ]
  },
  {
   "cell_type": "code",
   "execution_count": 18,
   "metadata": {},
   "outputs": [],
   "source": [
    "from tensorflow.keras.utils import to_categorical"
   ]
  },
  {
   "cell_type": "code",
   "execution_count": 19,
   "metadata": {},
   "outputs": [],
   "source": [
    "y_train = to_categorical(y_train, 10)"
   ]
  },
  {
   "cell_type": "code",
   "execution_count": 20,
   "metadata": {},
   "outputs": [],
   "source": [
    "y_test = to_categorical(y_test, 10)"
   ]
  },
  {
   "cell_type": "code",
   "execution_count": 21,
   "metadata": {},
   "outputs": [
    {
     "data": {
      "text/plain": [
       "array([0., 0., 0., 0., 0., 1., 0., 0., 0., 0.], dtype=float32)"
      ]
     },
     "execution_count": 21,
     "metadata": {},
     "output_type": "execute_result"
    }
   ],
   "source": [
    "y_train[2345]"
   ]
  },
  {
   "cell_type": "code",
   "execution_count": 22,
   "metadata": {},
   "outputs": [],
   "source": [
    "from tensorflow.keras.models import Sequential\n",
    "from tensorflow.keras.layers import Dense\n",
    "from tensorflow.keras.optimizers import SGD"
   ]
  },
  {
   "cell_type": "code",
   "execution_count": 23,
   "metadata": {},
   "outputs": [],
   "source": [
    "model = Sequential()"
   ]
  },
  {
   "cell_type": "code",
   "execution_count": 24,
   "metadata": {},
   "outputs": [],
   "source": [
    "model.add(Dense(15,input_dim=784, activation='relu'))"
   ]
  },
  {
   "cell_type": "code",
   "execution_count": 25,
   "metadata": {},
   "outputs": [],
   "source": [
    "model.add(Dense(15, activation='relu'))"
   ]
  },
  {
   "cell_type": "code",
   "execution_count": 26,
   "metadata": {},
   "outputs": [],
   "source": [
    "model.add(Dense(10, activation='softmax'))"
   ]
  },
  {
   "cell_type": "code",
   "execution_count": 27,
   "metadata": {},
   "outputs": [],
   "source": [
    "model.compile(loss='mse', optimizer=SGD(lr=0.05), metrics=['accuracy'])"
   ]
  },
  {
   "cell_type": "code",
   "execution_count": 28,
   "metadata": {},
   "outputs": [
    {
     "name": "stdout",
     "output_type": "stream",
     "text": [
      "Model: \"sequential\"\n",
      "_________________________________________________________________\n",
      "Layer (type)                 Output Shape              Param #   \n",
      "=================================================================\n",
      "dense (Dense)                (None, 15)                11775     \n",
      "_________________________________________________________________\n",
      "dense_1 (Dense)              (None, 15)                240       \n",
      "_________________________________________________________________\n",
      "dense_2 (Dense)              (None, 10)                160       \n",
      "=================================================================\n",
      "Total params: 12,175\n",
      "Trainable params: 12,175\n",
      "Non-trainable params: 0\n",
      "_________________________________________________________________\n"
     ]
    }
   ],
   "source": [
    "model.summary()"
   ]
  },
  {
   "cell_type": "code",
   "execution_count": 29,
   "metadata": {},
   "outputs": [
    {
     "data": {
      "text/plain": [
       "62800"
      ]
     },
     "execution_count": 29,
     "metadata": {},
     "output_type": "execute_result"
    }
   ],
   "source": [
    "784*80 + 80"
   ]
  },
  {
   "cell_type": "code",
   "execution_count": 30,
   "metadata": {},
   "outputs": [
    {
     "name": "stdout",
     "output_type": "stream",
     "text": [
      "Train on 60000 samples\n",
      "Epoch 1/30\n",
      "60000/60000 [==============================] - 5s 76us/sample - loss: 0.0816 - accuracy: 0.2675\n",
      "Epoch 2/30\n",
      "60000/60000 [==============================] - 4s 67us/sample - loss: 0.0676 - accuracy: 0.4037\n",
      "Epoch 3/30\n",
      "60000/60000 [==============================] - 4s 74us/sample - loss: 0.0607 - accuracy: 0.5151\n",
      "Epoch 4/30\n",
      "60000/60000 [==============================] - 4s 59us/sample - loss: 0.0504 - accuracy: 0.6274\n",
      "Epoch 5/30\n",
      "60000/60000 [==============================] - 4s 59us/sample - loss: 0.0415 - accuracy: 0.7146\n",
      "Epoch 6/30\n",
      "60000/60000 [==============================] - 4s 66us/sample - loss: 0.0363 - accuracy: 0.7591\n",
      "Epoch 7/30\n",
      "60000/60000 [==============================] - 4s 69us/sample - loss: 0.0329 - accuracy: 0.7836\n",
      "Epoch 8/30\n",
      "60000/60000 [==============================] - 4s 74us/sample - loss: 0.0304 - accuracy: 0.7998\n",
      "Epoch 9/30\n",
      "60000/60000 [==============================] - 4s 62us/sample - loss: 0.0287 - accuracy: 0.8108\n",
      "Epoch 10/30\n",
      "60000/60000 [==============================] - 4s 61us/sample - loss: 0.0274 - accuracy: 0.8167\n",
      "Epoch 11/30\n",
      "60000/60000 [==============================] - 4s 61us/sample - loss: 0.0265 - accuracy: 0.8221\n",
      "Epoch 12/30\n",
      "60000/60000 [==============================] - 4s 61us/sample - loss: 0.0258 - accuracy: 0.8270\n",
      "Epoch 13/30\n",
      "60000/60000 [==============================] - 4s 61us/sample - loss: 0.0252 - accuracy: 0.8301\n",
      "Epoch 14/30\n",
      "60000/60000 [==============================] - 4s 62us/sample - loss: 0.0248 - accuracy: 0.8334\n",
      "Epoch 15/30\n",
      "60000/60000 [==============================] - 4s 62us/sample - loss: 0.0243 - accuracy: 0.8359\n",
      "Epoch 16/30\n",
      "60000/60000 [==============================] - 4s 62us/sample - loss: 0.0240 - accuracy: 0.8378\n",
      "Epoch 17/30\n",
      "60000/60000 [==============================] - 4s 62us/sample - loss: 0.0236 - accuracy: 0.8396\n",
      "Epoch 18/30\n",
      "60000/60000 [==============================] - 4s 62us/sample - loss: 0.0233 - accuracy: 0.8426\n",
      "Epoch 19/30\n",
      "60000/60000 [==============================] - 4s 61us/sample - loss: 0.0231 - accuracy: 0.8437\n",
      "Epoch 20/30\n",
      "60000/60000 [==============================] - 4s 62us/sample - loss: 0.0228 - accuracy: 0.8453\n",
      "Epoch 21/30\n",
      "60000/60000 [==============================] - 4s 63us/sample - loss: 0.0226 - accuracy: 0.8479\n",
      "Epoch 22/30\n",
      "60000/60000 [==============================] - 4s 66us/sample - loss: 0.0224 - accuracy: 0.8488\n",
      "Epoch 23/30\n",
      "60000/60000 [==============================] - 4s 62us/sample - loss: 0.0222 - accuracy: 0.8503\n",
      "Epoch 24/30\n",
      "60000/60000 [==============================] - 4s 65us/sample - loss: 0.0220 - accuracy: 0.8519\n",
      "Epoch 25/30\n",
      "60000/60000 [==============================] - 4s 62us/sample - loss: 0.0218 - accuracy: 0.8533\n",
      "Epoch 26/30\n",
      "60000/60000 [==============================] - 4s 62us/sample - loss: 0.0216 - accuracy: 0.8547\n",
      "Epoch 27/30\n",
      "60000/60000 [==============================] - 4s 62us/sample - loss: 0.0215 - accuracy: 0.8559\n",
      "Epoch 28/30\n",
      "60000/60000 [==============================] - 4s 62us/sample - loss: 0.0213 - accuracy: 0.8571\n",
      "Epoch 29/30\n",
      "60000/60000 [==============================] - 4s 62us/sample - loss: 0.0212 - accuracy: 0.8579\n",
      "Epoch 30/30\n",
      "60000/60000 [==============================] - 4s 62us/sample - loss: 0.0210 - accuracy: 0.8588\n"
     ]
    },
    {
     "data": {
      "text/plain": [
       "<tensorflow.python.keras.callbacks.History at 0x18e78e4fe88>"
      ]
     },
     "execution_count": 30,
     "metadata": {},
     "output_type": "execute_result"
    }
   ],
   "source": [
    "model.fit(x_train, y_train, batch_size=40, epochs=30)"
   ]
  },
  {
   "cell_type": "code",
   "execution_count": 31,
   "metadata": {},
   "outputs": [],
   "source": [
    "result = model.predict_classes(x_test)"
   ]
  },
  {
   "cell_type": "code",
   "execution_count": 32,
   "metadata": {},
   "outputs": [
    {
     "name": "stdout",
     "output_type": "stream",
     "text": [
      "神經網路預測結果: 7\n"
     ]
    },
    {
     "data": {
      "text/plain": [
       "<matplotlib.image.AxesImage at 0x18e7e80e088>"
      ]
     },
     "execution_count": 32,
     "metadata": {},
     "output_type": "execute_result"
    },
    {
     "data": {
      "image/png": "[encoded data removed]",
      "text/plain": [
       "<Figure size 432x288 with 1 Axes>"
      ]
     },
     "metadata": {
      "needs_background": "light"
     },
     "output_type": "display_data"
    }
   ],
   "source": [
    "n = 8520\n",
    "\n",
    "print('神經網路預測結果:', result[n])\n",
    "plt.imshow(x_test[n].reshape(28,28), cmap='Greys')"
   ]
  },
  {
   "cell_type": "code",
   "execution_count": 37,
   "metadata": {},
   "outputs": [],
   "source": [
    "def show_predict(n):\n",
    "    print('神經網路說是:',result[n])\n",
    "    plt.imshow(x_test[n].reshape(28,28))"
   ]
  },
  {
   "cell_type": "code",
   "execution_count": 39,
   "metadata": {},
   "outputs": [
    {
     "name": "stdout",
     "output_type": "stream",
     "text": [
      "神經網路說是: 9\n"
     ]
    },
    {
     "data": {
      "image/png": "[encoded data removed]",
      "text/plain": [
       "<Figure size 432x288 with 1 Axes>"
      ]
     },
     "metadata": {
      "needs_background": "light"
     },
     "output_type": "display_data"
    }
   ],
   "source": [
    "show_predict(4567)"
   ]
  },
  {
   "cell_type": "markdown",
   "metadata": {},
   "source": [
    "# 改成兩層個15個神經元，batch_size=40"
   ]
  },
  {
   "cell_type": "code",
   "execution_count": null,
   "metadata": {},
   "outputs": [],
   "source": []
  }
 ],
 "metadata": {
  "kernelspec": {
   "display_name": "Python 3",
   "language": "python",
   "name": "python3"
  },
  "language_info": {
   "codemirror_mode": {
    "name": "ipython",
    "version": 3
   },
   "file_extension": ".py",
   "mimetype": "text/x-python",
   "name": "python",
   "nbconvert_exporter": "python",
   "pygments_lexer": "ipython3",
   "version": "3.7.4"
  }
 },
 "nbformat": 4,
 "nbformat_minor": 2
}
